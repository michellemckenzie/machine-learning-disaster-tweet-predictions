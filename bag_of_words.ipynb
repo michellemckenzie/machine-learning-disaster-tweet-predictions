{
 "cells": [
  {
   "cell_type": "code",
   "execution_count": 1,
   "metadata": {},
   "outputs": [
    {
     "data": {
      "text/html": [
       "<div>\n",
       "<style scoped>\n",
       "    .dataframe tbody tr th:only-of-type {\n",
       "        vertical-align: middle;\n",
       "    }\n",
       "\n",
       "    .dataframe tbody tr th {\n",
       "        vertical-align: top;\n",
       "    }\n",
       "\n",
       "    .dataframe thead th {\n",
       "        text-align: right;\n",
       "    }\n",
       "</style>\n",
       "<table border=\"1\" class=\"dataframe\">\n",
       "  <thead>\n",
       "    <tr style=\"text-align: right;\">\n",
       "      <th></th>\n",
       "      <th>Unnamed: 0</th>\n",
       "      <th>keyword</th>\n",
       "      <th>text</th>\n",
       "      <th>target</th>\n",
       "    </tr>\n",
       "  </thead>\n",
       "  <tbody>\n",
       "    <tr>\n",
       "      <th>0</th>\n",
       "      <td>0</td>\n",
       "      <td>NaN</td>\n",
       "      <td>our deeds are reason of earthquake may allah f...</td>\n",
       "      <td>1</td>\n",
       "    </tr>\n",
       "    <tr>\n",
       "      <th>1</th>\n",
       "      <td>1</td>\n",
       "      <td>NaN</td>\n",
       "      <td>forest fire near la ronge sask canada</td>\n",
       "      <td>1</td>\n",
       "    </tr>\n",
       "    <tr>\n",
       "      <th>2</th>\n",
       "      <td>2</td>\n",
       "      <td>NaN</td>\n",
       "      <td>all residents asked to shelter in place are be...</td>\n",
       "      <td>1</td>\n",
       "    </tr>\n",
       "    <tr>\n",
       "      <th>3</th>\n",
       "      <td>3</td>\n",
       "      <td>NaN</td>\n",
       "      <td>people receive wildfires evacuation orders in...</td>\n",
       "      <td>1</td>\n",
       "    </tr>\n",
       "    <tr>\n",
       "      <th>4</th>\n",
       "      <td>4</td>\n",
       "      <td>NaN</td>\n",
       "      <td>just got sent photo from ruby alaska as smoke ...</td>\n",
       "      <td>1</td>\n",
       "    </tr>\n",
       "    <tr>\n",
       "      <th>5</th>\n",
       "      <td>5</td>\n",
       "      <td>NaN</td>\n",
       "      <td>rockyfire update  california hwy closed in bot...</td>\n",
       "      <td>1</td>\n",
       "    </tr>\n",
       "    <tr>\n",
       "      <th>6</th>\n",
       "      <td>6</td>\n",
       "      <td>NaN</td>\n",
       "      <td>flood disaster heavy rain causes flash floodin...</td>\n",
       "      <td>1</td>\n",
       "    </tr>\n",
       "    <tr>\n",
       "      <th>7</th>\n",
       "      <td>7</td>\n",
       "      <td>NaN</td>\n",
       "      <td>i am on top of hill and can see fire in woods</td>\n",
       "      <td>1</td>\n",
       "    </tr>\n",
       "    <tr>\n",
       "      <th>8</th>\n",
       "      <td>8</td>\n",
       "      <td>NaN</td>\n",
       "      <td>there is emergency evacuation happening now in...</td>\n",
       "      <td>1</td>\n",
       "    </tr>\n",
       "    <tr>\n",
       "      <th>9</th>\n",
       "      <td>9</td>\n",
       "      <td>NaN</td>\n",
       "      <td>i am afraid tornado is coming to our area</td>\n",
       "      <td>1</td>\n",
       "    </tr>\n",
       "  </tbody>\n",
       "</table>\n",
       "</div>"
      ],
      "text/plain": [
       "   Unnamed: 0 keyword                                               text  \\\n",
       "0           0     NaN  our deeds are reason of earthquake may allah f...   \n",
       "1           1     NaN              forest fire near la ronge sask canada   \n",
       "2           2     NaN  all residents asked to shelter in place are be...   \n",
       "3           3     NaN   people receive wildfires evacuation orders in...   \n",
       "4           4     NaN  just got sent photo from ruby alaska as smoke ...   \n",
       "5           5     NaN  rockyfire update  california hwy closed in bot...   \n",
       "6           6     NaN  flood disaster heavy rain causes flash floodin...   \n",
       "7           7     NaN      i am on top of hill and can see fire in woods   \n",
       "8           8     NaN  there is emergency evacuation happening now in...   \n",
       "9           9     NaN          i am afraid tornado is coming to our area   \n",
       "\n",
       "   target  \n",
       "0       1  \n",
       "1       1  \n",
       "2       1  \n",
       "3       1  \n",
       "4       1  \n",
       "5       1  \n",
       "6       1  \n",
       "7       1  \n",
       "8       1  \n",
       "9       1  "
      ]
     },
     "execution_count": 1,
     "metadata": {},
     "output_type": "execute_result"
    }
   ],
   "source": [
    "import pandas as pd\n",
    "dff = pd.read_csv(\"data/updated_data.csv\")\n",
    "dff.head(10)"
   ]
  },
  {
   "cell_type": "code",
   "execution_count": 2,
   "metadata": {},
   "outputs": [],
   "source": [
    "# import ssl\n",
    "# ssl._create_default_https_context = ssl._create_unverified_context\n",
    "# import nltk\n",
    "# nltk.download()"
   ]
  },
  {
   "cell_type": "code",
   "execution_count": 3,
   "metadata": {},
   "outputs": [],
   "source": [
    "import nltk\n",
    "\n",
    "stopwords = nltk.corpus.stopwords.words('english')\n",
    "stemmer = nltk.stem.PorterStemmer()"
   ]
  },
  {
   "cell_type": "code",
   "execution_count": 4,
   "metadata": {},
   "outputs": [
    {
     "data": {
      "image/png": "[encoded data removed]",
      "text/plain": [
       "<Figure size 432x288 with 1 Axes>"
      ]
     },
     "metadata": {
      "needs_background": "light"
     },
     "output_type": "display_data"
    },
    {
     "data": {
      "text/plain": [
       "<AxesSubplot:xlabel='Samples', ylabel='Counts'>"
      ]
     },
     "execution_count": 4,
     "metadata": {},
     "output_type": "execute_result"
    }
   ],
   "source": [
    "from nltk.tokenize import word_tokenize\n",
    "import nltk\n",
    "\n",
    "# tokenize all texts\n",
    "words = [word_tokenize(text) for text in dff['text']]\n",
    "\n",
    "words_list = []\n",
    "for word in words:\n",
    "    words_list.extend(word)\n",
    "\n",
    "cleaned_wordlist = []\n",
    "for word in words_list:\n",
    "    if word in stopwords:\n",
    "        continue\n",
    "    stem_word = stemmer.stem(word)\n",
    "    cleaned_wordlist.append(stem_word)\n",
    "\n",
    "fdist = nltk.FreqDist(cleaned_wordlist)\n",
    "fdist.plot(30)"
   ]
  },
  {
   "cell_type": "code",
   "execution_count": 5,
   "metadata": {},
   "outputs": [
    {
     "data": {
      "image/png": "[encoded data removed]",
      "text/plain": [
       "<Figure size 432x288 with 1 Axes>"
      ]
     },
     "metadata": {
      "needs_background": "light"
     },
     "output_type": "display_data"
    },
    {
     "data": {
      "text/plain": [
       "<AxesSubplot:xlabel='Samples', ylabel='Counts'>"
      ]
     },
     "execution_count": 5,
     "metadata": {},
     "output_type": "execute_result"
    }
   ],
   "source": [
    "# tokenize only non-disaster texts\n",
    "words = [word_tokenize(text) for text in dff.query('target==0')['text']]\n",
    "\n",
    "words_list = []\n",
    "for word in words:\n",
    "    words_list.extend(word)\n",
    "\n",
    "cleaned_wordlist = []\n",
    "for word in words_list:\n",
    "    if word in stopwords:\n",
    "        continue\n",
    "    stem_word = stemmer.stem(word)\n",
    "    cleaned_wordlist.append(stem_word)\n",
    "\n",
    "fdist = nltk.FreqDist(cleaned_wordlist)\n",
    "non_disaster_words = fdist.most_common(20)\n",
    "fdist.plot(30)"
   ]
  },
  {
   "cell_type": "code",
   "execution_count": 6,
   "metadata": {},
   "outputs": [
    {
     "data": {
      "image/png": "[encoded data removed]",
      "text/plain": [
       "<Figure size 432x288 with 1 Axes>"
      ]
     },
     "metadata": {
      "needs_background": "light"
     },
     "output_type": "display_data"
    },
    {
     "data": {
      "text/plain": [
       "<AxesSubplot:xlabel='Samples', ylabel='Counts'>"
      ]
     },
     "execution_count": 6,
     "metadata": {},
     "output_type": "execute_result"
    }
   ],
   "source": [
    "# tokenize only disaster texts\n",
    "words = [word_tokenize(text) for text in dff.query('target==1')['text']]\n",
    "\n",
    "words_list = []\n",
    "for word in words:\n",
    "    words_list.extend(word)\n",
    "\n",
    "cleaned_wordlist = []\n",
    "for word in words_list:\n",
    "    if word in stopwords:\n",
    "        continue\n",
    "    stem_word = stemmer.stem(word)\n",
    "    cleaned_wordlist.append(stem_word)\n",
    "\n",
    "fdist = nltk.FreqDist(cleaned_wordlist)\n",
    "disaster_words = fdist.most_common(20)\n",
    "\n",
    "fdist.plot(30)"
   ]
  },
  {
   "cell_type": "code",
   "execution_count": 7,
   "metadata": {},
   "outputs": [],
   "source": [
    "def clean_sentence(text):\n",
    "    words = word_tokenize(text)\n",
    "\n",
    "    cleaned_words = []\n",
    "    for word in words:\n",
    "        if word in stopwords:\n",
    "            continue\n",
    "        stem_word = stemmer.stem(word)\n",
    "        cleaned_words.append(stem_word)\n",
    "    return cleaned_words\n",
    "\n",
    "def bag_of_words(text):\n",
    "    words = clean_sentence(text)\n",
    "    valuated_words = []\n",
    "    for word in words:\n",
    "        if word in non_disaster_words:\n",
    "            evaluate_value = -10\n",
    "        if word in disaster_words:\n",
    "            evaluate_value = 10\n",
    "        else:\n",
    "            evaluate_value = 10\n",
    "        valuated_words.append([word, evaluate_value])\n",
    "    words_dictionary = dict(valuated_words)\n",
    "    return words_dictionary\n"
   ]
  },
  {
   "cell_type": "code",
   "execution_count": 8,
   "metadata": {},
   "outputs": [],
   "source": [
    "# disaster texts set\n",
    "disaster_text = []\n",
    "for text in dff.query('target==1')['text']:\n",
    "    disaster_text.append((bag_of_words(text), 'disaster'))\n",
    " \n",
    "# non-disaster texts set\n",
    "non_disaster_text = []\n",
    "for text in dff.query('target==0')['text']:\n",
    "    non_disaster_text.append((bag_of_words(text), 'non-disaster'))\n",
    "\n",
    "# shuffle texts to get test and train set\n",
    "import random\n",
    "random.shuffle(disaster_text)\n",
    "random.shuffle(non_disaster_text)\n",
    "\n",
    "test_set = disaster_text[:int(len(disaster_text)*0.2)] + non_disaster_text[:int(len(non_disaster_text)*0.2)]\n",
    "train_set = disaster_text[int(len(disaster_text)*0.2):] + non_disaster_text[int(len(non_disaster_text)*0.2):]"
   ]
  },
  {
   "cell_type": "code",
   "execution_count": 9,
   "metadata": {},
   "outputs": [
    {
     "data": {
      "text/plain": [
       "({'plan': 10,\n",
       "  'former': 10,\n",
       "  'first': 10,\n",
       "  'ladi': 10,\n",
       "  'wife': 10,\n",
       "  'expresid': 10,\n",
       "  'goodluck': 10,\n",
       "  'jonathan': 10,\n",
       "  'dame': 10,\n",
       "  'patienc': 10,\n",
       "  'hijack': 10},\n",
       " 'disaster')"
      ]
     },
     "execution_count": 9,
     "metadata": {},
     "output_type": "execute_result"
    }
   ],
   "source": [
    "test_set[0]"
   ]
  },
  {
   "cell_type": "code",
   "execution_count": 10,
   "metadata": {},
   "outputs": [
    {
     "name": "stdout",
     "output_type": "stream",
     "text": [
      "Most Informative Features\n",
      "                      mh = 10             disast : non-di =     56.2 : 1.0\n",
      "               hiroshima = 10             disast : non-di =     55.3 : 1.0\n",
      "                  bomber = 10             disast : non-di =     48.2 : 1.0\n",
      "                   sever = 10             disast : non-di =     39.4 : 1.0\n",
      "                 wildfir = 10             disast : non-di =     35.8 : 1.0\n",
      "                 wreckag = 10             disast : non-di =     34.1 : 1.0\n",
      "                outbreak = 10             disast : non-di =     27.0 : 1.0\n",
      "                 reunion = 10             disast : non-di =     25.2 : 1.0\n",
      "                   saudi = 10             disast : non-di =     24.3 : 1.0\n",
      "             anniversari = 10             disast : non-di =     23.4 : 1.0\n",
      "None\n"
     ]
    }
   ],
   "source": [
    "# train data with Naive Bayes\n",
    "classifier = nltk.NaiveBayesClassifier.train(train_set)\n",
    "print (classifier.show_most_informative_features(10)) "
   ]
  },
  {
   "cell_type": "code",
   "execution_count": 11,
   "metadata": {},
   "outputs": [
    {
     "name": "stdout",
     "output_type": "stream",
     "text": [
      "0.7877792378449409\n"
     ]
    }
   ],
   "source": [
    "# get accuracy\n",
    "accuracy = nltk.classify.accuracy(classifier, test_set)\n",
    "print(accuracy)"
   ]
  }
 ],
 "metadata": {
  "interpreter": {
   "hash": "850c01ea696b9a172c8b4191eeb94022e0786d7948fcc6184dcbdfac494db3be"
  },
  "kernelspec": {
   "display_name": "Python 3.10.1 ('venv': venv)",
   "language": "python",
   "name": "python3"
  },
  "language_info": {
   "codemirror_mode": {
    "name": "ipython",
    "version": 3
   },
   "file_extension": ".py",
   "mimetype": "text/x-python",
   "name": "python",
   "nbconvert_exporter": "python",
   "pygments_lexer": "ipython3",
   "version": "3.10.1"
  },
  "orig_nbformat": 4
 },
 "nbformat": 4,
 "nbformat_minor": 2
}
